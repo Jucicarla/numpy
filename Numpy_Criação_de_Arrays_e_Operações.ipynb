{
  "nbformat": 4,
  "nbformat_minor": 0,
  "metadata": {
    "kernelspec": {
      "display_name": "Python 3",
      "language": "python",
      "name": "python3"
    },
    "language_info": {
      "codemirror_mode": {
        "name": "ipython",
        "version": 3
      },
      "file_extension": ".py",
      "mimetype": "text/x-python",
      "name": "python",
      "nbconvert_exporter": "python",
      "pygments_lexer": "ipython3",
      "version": "3.8.3"
    },
    "colab": {
      "name": "Numpy - Criação de Arrays e Operações.ipynb",
      "provenance": [],
      "include_colab_link": true
    }
  },
  "cells": [
    {
      "cell_type": "markdown",
      "metadata": {
        "id": "view-in-github",
        "colab_type": "text"
      },
      "source": [
        "<a href=\"https://colab.research.google.com/github/Jucicarla/numpy/blob/main/Numpy_Cria%C3%A7%C3%A3o_de_Arrays_e_Opera%C3%A7%C3%B5es.ipynb\" target=\"_parent\"><img src=\"https://colab.research.google.com/assets/colab-badge.svg\" alt=\"Open In Colab\"/></a>"
      ]
    },
    {
      "cell_type": "markdown",
      "metadata": {
        "id": "FsVbFT8WLLxk"
      },
      "source": [
        "# Numpy - Criação de Arrays e Operações\n",
        "**21/11/2020**\n",
        "**Disciplina**: Programação para Ciência dos Dados  \n",
        "**Docentes**: Elloá B. Guedes e Tiago E. de Melo  \n",
        "**Contato:** ebgcosta@uea.edu.br, tmelo@uea.edu.br  \n",
        "**Github:** http://github.com/elloa/numpy\n",
        "\n",
        "## Apresentação\n",
        "\n",
        "Este notebook deverá ser utilizado para a prática dos conceitos relativos à biblioteca numpy."
      ]
    },
    {
      "cell_type": "code",
      "metadata": {
        "id": "U14y8AtRLLxm"
      },
      "source": [
        "import numpy as np\n",
        "import matplotlib.pyplot as plt\n",
        "%matplotlib inline"
      ],
      "execution_count": null,
      "outputs": []
    },
    {
      "cell_type": "markdown",
      "metadata": {
        "id": "js-LG67aLLxo"
      },
      "source": [
        "## Parte 1.1: Criação de ndarrays\n",
        "\n",
        "1. Crie um ndarray a partir de uma lista de inteiros de 1 a 100\n",
        "2. Obtenha o tipo do objeto e o tipo de dados nele contidos\n",
        "3. Qual a dimensão deste array?\n",
        "4. Obtenha o rank deste array.\n",
        "4. Crie um novo array de dimensão (100,1) a partir da lista inicial\n",
        "5. Crie um ndarray de rank igual a 3 e dimensões 2x2x2"
      ]
    },
    {
      "cell_type": "code",
      "metadata": {
        "id": "aVufpDIELLxo"
      },
      "source": [
        "a = np.array([x for x in range(1,101)])"
      ],
      "execution_count": null,
      "outputs": []
    },
    {
      "cell_type": "code",
      "metadata": {
        "colab": {
          "base_uri": "https://localhost:8080/"
        },
        "id": "DsVZ38bQLLxo",
        "outputId": "e51ffb0e-7c64-47f6-d382-0fd43dadf961"
      },
      "source": [
        "a"
      ],
      "execution_count": null,
      "outputs": [
        {
          "output_type": "execute_result",
          "data": {
            "text/plain": [
              "array([  1,   2,   3,   4,   5,   6,   7,   8,   9,  10,  11,  12,  13,\n",
              "        14,  15,  16,  17,  18,  19,  20,  21,  22,  23,  24,  25,  26,\n",
              "        27,  28,  29,  30,  31,  32,  33,  34,  35,  36,  37,  38,  39,\n",
              "        40,  41,  42,  43,  44,  45,  46,  47,  48,  49,  50,  51,  52,\n",
              "        53,  54,  55,  56,  57,  58,  59,  60,  61,  62,  63,  64,  65,\n",
              "        66,  67,  68,  69,  70,  71,  72,  73,  74,  75,  76,  77,  78,\n",
              "        79,  80,  81,  82,  83,  84,  85,  86,  87,  88,  89,  90,  91,\n",
              "        92,  93,  94,  95,  96,  97,  98,  99, 100])"
            ]
          },
          "metadata": {
            "tags": []
          },
          "execution_count": 5
        }
      ]
    },
    {
      "cell_type": "code",
      "metadata": {
        "colab": {
          "base_uri": "https://localhost:8080/"
        },
        "id": "4K4BJGfxLLxo",
        "outputId": "444fd833-e673-469f-e693-dcf8a61a441c"
      },
      "source": [
        "type(a)"
      ],
      "execution_count": null,
      "outputs": [
        {
          "output_type": "execute_result",
          "data": {
            "text/plain": [
              "numpy.ndarray"
            ]
          },
          "metadata": {
            "tags": []
          },
          "execution_count": 6
        }
      ]
    },
    {
      "cell_type": "code",
      "metadata": {
        "colab": {
          "base_uri": "https://localhost:8080/"
        },
        "id": "0DZU2OWfLLxo",
        "outputId": "7c625d99-4341-4cf5-eac0-a46463469f78"
      },
      "source": [
        "a.dtype"
      ],
      "execution_count": null,
      "outputs": [
        {
          "output_type": "execute_result",
          "data": {
            "text/plain": [
              "dtype('int64')"
            ]
          },
          "metadata": {
            "tags": []
          },
          "execution_count": 7
        }
      ]
    },
    {
      "cell_type": "code",
      "metadata": {
        "colab": {
          "base_uri": "https://localhost:8080/"
        },
        "id": "eKcH7wDQLLxo",
        "outputId": "bbbfa2b8-aa89-4f99-f2a3-4f1341e61c12"
      },
      "source": [
        "#dimensao\n",
        "a.shape"
      ],
      "execution_count": null,
      "outputs": [
        {
          "output_type": "execute_result",
          "data": {
            "text/plain": [
              "(100,)"
            ]
          },
          "metadata": {
            "tags": []
          },
          "execution_count": 8
        }
      ]
    },
    {
      "cell_type": "code",
      "metadata": {
        "id": "yxVf-qJiLLxo"
      },
      "source": [
        "# b dimensional\n",
        "b = np.array([[x] for x in range(1,101)])\n"
      ],
      "execution_count": null,
      "outputs": []
    },
    {
      "cell_type": "code",
      "metadata": {
        "colab": {
          "base_uri": "https://localhost:8080/"
        },
        "id": "zLJJoe6FPfC_",
        "outputId": "2a8be195-89c6-416d-f84e-f6577de26981"
      },
      "source": [
        "b.shape"
      ],
      "execution_count": null,
      "outputs": [
        {
          "output_type": "execute_result",
          "data": {
            "text/plain": [
              "(100, 1)"
            ]
          },
          "metadata": {
            "tags": []
          },
          "execution_count": 22
        }
      ]
    },
    {
      "cell_type": "code",
      "metadata": {
        "colab": {
          "base_uri": "https://localhost:8080/"
        },
        "id": "v4VCqXi1LLxo",
        "outputId": "9d4fcda4-e1f6-42f3-ecbe-9062aa668e0a"
      },
      "source": [
        "b.ndim"
      ],
      "execution_count": null,
      "outputs": [
        {
          "output_type": "execute_result",
          "data": {
            "text/plain": [
              "2"
            ]
          },
          "metadata": {
            "tags": []
          },
          "execution_count": 23
        }
      ]
    },
    {
      "cell_type": "code",
      "metadata": {
        "id": "7ZWgAeFALLxp"
      },
      "source": [
        "c = np.array([[[1, 0], [1, 0]], [[1, 0], [1, 0]]])"
      ],
      "execution_count": null,
      "outputs": []
    },
    {
      "cell_type": "code",
      "metadata": {
        "colab": {
          "base_uri": "https://localhost:8080/"
        },
        "id": "_i5OU1cLLLxp",
        "outputId": "0c6392a9-ad53-4858-a71d-eb40fdc07e10"
      },
      "source": [
        "c"
      ],
      "execution_count": null,
      "outputs": [
        {
          "output_type": "execute_result",
          "data": {
            "text/plain": [
              "array([[[1, 0],\n",
              "        [1, 0]],\n",
              "\n",
              "       [[1, 0],\n",
              "        [1, 0]]])"
            ]
          },
          "metadata": {
            "tags": []
          },
          "execution_count": 28
        }
      ]
    },
    {
      "cell_type": "code",
      "metadata": {
        "colab": {
          "base_uri": "https://localhost:8080/"
        },
        "id": "cJeL4gpEQkbJ",
        "outputId": "88c9e0fc-1ba7-4cb8-d8e2-ca9ca3eeca95"
      },
      "source": [
        "c.shape"
      ],
      "execution_count": null,
      "outputs": [
        {
          "output_type": "execute_result",
          "data": {
            "text/plain": [
              "(2, 2, 2)"
            ]
          },
          "metadata": {
            "tags": []
          },
          "execution_count": 29
        }
      ]
    },
    {
      "cell_type": "markdown",
      "metadata": {
        "id": "gbCNin83LLxp"
      },
      "source": [
        "É possível criar um ndarray a partir da lista a seguir?\n",
        "\n",
        "$$lista = [[1,2],[3,4,5],[6,7,8,9]]$$"
      ]
    },
    {
      "cell_type": "code",
      "metadata": {
        "colab": {
          "base_uri": "https://localhost:8080/",
          "height": 135
        },
        "id": "uQF397DPLLxp",
        "outputId": "f85dd2a2-e09d-4bb1-8bfa-7474513546cc"
      },
      "source": [
        "#nao é possivel, pois nao é homogeneo, 2X3X4\n",
        "n.array([list([[1,2],[3,4,5],[6,7,8,9]])"
      ],
      "execution_count": null,
      "outputs": [
        {
          "output_type": "error",
          "ename": "SyntaxError",
          "evalue": "ignored",
          "traceback": [
            "\u001b[0;36m  File \u001b[0;32m\"<ipython-input-33-fb073037ebd2>\"\u001b[0;36m, line \u001b[0;32m2\u001b[0m\n\u001b[0;31m    n.array([list([[1,2],[3,4,5],[6,7,8,9]])\u001b[0m\n\u001b[0m                                            ^\u001b[0m\n\u001b[0;31mSyntaxError\u001b[0m\u001b[0;31m:\u001b[0m unexpected EOF while parsing\n"
          ]
        }
      ]
    },
    {
      "cell_type": "markdown",
      "metadata": {
        "id": "j8aUoj_ZLLxp"
      },
      "source": [
        "Qual o tipo de dados contidos no array criado a partir da lista a seguir?\n",
        "\n",
        "$$[-1, 1, 2.0, 3.15]$$"
      ]
    },
    {
      "cell_type": "code",
      "metadata": {
        "id": "sD-lRm0BLLxp"
      },
      "source": [
        "a = np.array([-1, 1, 2.0, 3.5])"
      ],
      "execution_count": null,
      "outputs": []
    },
    {
      "cell_type": "code",
      "metadata": {
        "colab": {
          "base_uri": "https://localhost:8080/"
        },
        "id": "4VKCm8n0SMdl",
        "outputId": "ed062f13-da47-4156-e0db-db897e0e5f09"
      },
      "source": [
        "a.dtype"
      ],
      "execution_count": null,
      "outputs": [
        {
          "output_type": "execute_result",
          "data": {
            "text/plain": [
              "dtype('float64')"
            ]
          },
          "metadata": {
            "tags": []
          },
          "execution_count": 37
        }
      ]
    },
    {
      "cell_type": "markdown",
      "metadata": {
        "id": "X91hYsw1LLxp"
      },
      "source": [
        "## Parte 1.2: Coerção de tipos em ndarrays\n",
        "\n",
        "\n",
        "0. Cuidado!\n",
        "1. **Primeira forma**: passar o dtype como parâmetro  \n",
        "```python\n",
        "np.array([1,2,3],dtype = \"complex\")\n",
        "```\n",
        "2. **Segunda forma**: coerção de tipos\n",
        "```python\n",
        "a = np.array([1,2,3])\n",
        "a = a.astype(\"float\")\n",
        "```\n",
        "3. Os tipos de dados disponíveis na biblioteca numpy são listados em:  \n",
        "https://numpy.org/devdocs/user/basics.types.html\n"
      ]
    },
    {
      "cell_type": "code",
      "metadata": {
        "colab": {
          "base_uri": "https://localhost:8080/"
        },
        "id": "JpIZZwbgLLxp",
        "outputId": "12e252eb-bbfa-4266-8095-67bf594462ab"
      },
      "source": [
        "np.array([1,2,3],dtype = \"complex\")"
      ],
      "execution_count": null,
      "outputs": [
        {
          "output_type": "execute_result",
          "data": {
            "text/plain": [
              "array([1.+0.j, 2.+0.j, 3.+0.j])"
            ]
          },
          "metadata": {
            "tags": []
          },
          "execution_count": 38
        }
      ]
    },
    {
      "cell_type": "code",
      "metadata": {
        "id": "8Un0UwCGLLxp"
      },
      "source": [
        "a = np.array([1,2,3])\n",
        "a = a.astype(\"float\")"
      ],
      "execution_count": null,
      "outputs": []
    },
    {
      "cell_type": "code",
      "metadata": {
        "colab": {
          "base_uri": "https://localhost:8080/"
        },
        "id": "SnyyZJ-2TXfw",
        "outputId": "6df4387c-5fbd-437e-eb75-0dd3c90a4f83"
      },
      "source": [
        "#casting forçado\n",
        "a"
      ],
      "execution_count": null,
      "outputs": [
        {
          "output_type": "execute_result",
          "data": {
            "text/plain": [
              "array([1., 2., 3.])"
            ]
          },
          "metadata": {
            "tags": []
          },
          "execution_count": 41
        }
      ]
    },
    {
      "cell_type": "markdown",
      "metadata": {
        "id": "GqnXYhgFLLxq"
      },
      "source": [
        "Quais as implicações da coerção de tipo a seguir? Execute e observe.\n",
        "\n",
        "```python\n",
        "x = np.array([1.3 + 3j,2 -4j],dtype = \"complex_\")\n",
        "x = x.astype(\"int\")\n",
        "```"
      ]
    },
    {
      "cell_type": "code",
      "metadata": {
        "colab": {
          "base_uri": "https://localhost:8080/"
        },
        "id": "yhHZ0hs9LLxq",
        "outputId": "e3c011fc-69f5-4dd6-bb1b-972ea54b741c"
      },
      "source": [
        "x = np.array([1.3 + 3j,2 -4j],dtype = \"complex_\")\n",
        "x = x.astype(\"int\")"
      ],
      "execution_count": null,
      "outputs": [
        {
          "output_type": "stream",
          "text": [
            "/usr/local/lib/python3.6/dist-packages/ipykernel_launcher.py:2: ComplexWarning: Casting complex values to real discards the imaginary part\n",
            "  \n"
          ],
          "name": "stderr"
        }
      ]
    },
    {
      "cell_type": "code",
      "metadata": {
        "colab": {
          "base_uri": "https://localhost:8080/"
        },
        "id": "QS-duRmrUMX3",
        "outputId": "9af3702f-6681-4489-bdc9-0c418da517b0"
      },
      "source": [
        "#ele faz o casting, mas perde informação....\n",
        "x"
      ],
      "execution_count": null,
      "outputs": [
        {
          "output_type": "execute_result",
          "data": {
            "text/plain": [
              "array([1, 2])"
            ]
          },
          "metadata": {
            "tags": []
          },
          "execution_count": 43
        }
      ]
    },
    {
      "cell_type": "markdown",
      "metadata": {
        "id": "qV-VSt-sLLxq"
      },
      "source": [
        "## Parte 1.3: Criação intrínseca de arrays\n",
        "\n",
        "1. A partir de np.zeros: Crie uma matriz identidade 3x3 de números inteiros\n",
        "2. A partir de um array unidimensional de np.ones: Crie um array 2x10 preenchido apenas com $\\pi$\n",
        "3. Qual a consequência da execução do código a seguir?\n",
        "```python\n",
        "np.random.random((2,2)).reshape(3,3)\n",
        "```\n",
        "4. Criar um array unidimensional a partir de uma variável aleatória com distribuição normal de média zero e desvio padrão igual a 1.0  \n",
        "  - https://numpy.org/doc/stable/reference/random/generated/numpy.random.normal.html\n",
        "  - Que tal plotar um histograma destes dados?\n",
        "5. Criar amostras no intervalo de [1,100] intervaladas de 0.1  \n",
        "   5.1 Com uma lista  \n",
        "   5.2 Com np.arange  \n",
        "6. Crie um linspace no intervalo $[-2\\pi,2\\pi]$ com mil amostras  \n",
        "   6.1 Obtenha o seno e o coseno destes valores  \n",
        "   6.2 Plote o gráfico destas funções  "
      ]
    },
    {
      "cell_type": "code",
      "metadata": {
        "id": "xHSzoJOMLLxq"
      },
      "source": [
        "a = np.zeros((3,3))"
      ],
      "execution_count": null,
      "outputs": []
    },
    {
      "cell_type": "code",
      "metadata": {
        "colab": {
          "base_uri": "https://localhost:8080/"
        },
        "id": "rgpcn8GILLxq",
        "outputId": "2052f378-331c-4b12-c769-501891fea217"
      },
      "source": [
        "a"
      ],
      "execution_count": null,
      "outputs": [
        {
          "output_type": "execute_result",
          "data": {
            "text/plain": [
              "array([[0., 0., 0.],\n",
              "       [0., 0., 0.],\n",
              "       [0., 0., 0.]])"
            ]
          },
          "metadata": {
            "tags": []
          },
          "execution_count": 45
        }
      ]
    },
    {
      "cell_type": "code",
      "metadata": {
        "id": "A7cfIbBSLLxq"
      },
      "source": [
        "b = np.ones((2,10))\n",
        "b +=2.1415"
      ],
      "execution_count": null,
      "outputs": []
    },
    {
      "cell_type": "code",
      "metadata": {
        "colab": {
          "base_uri": "https://localhost:8080/"
        },
        "id": "zc0kKbdsLLxq",
        "outputId": "352b635b-885a-49d9-e59f-ed24f9513854"
      },
      "source": [
        "b"
      ],
      "execution_count": null,
      "outputs": [
        {
          "output_type": "execute_result",
          "data": {
            "text/plain": [
              "array([[3.1415, 3.1415, 3.1415, 3.1415, 3.1415, 3.1415, 3.1415, 3.1415,\n",
              "        3.1415, 3.1415],\n",
              "       [3.1415, 3.1415, 3.1415, 3.1415, 3.1415, 3.1415, 3.1415, 3.1415,\n",
              "        3.1415, 3.1415]])"
            ]
          },
          "metadata": {
            "tags": []
          },
          "execution_count": 47
        }
      ]
    },
    {
      "cell_type": "code",
      "metadata": {
        "colab": {
          "base_uri": "https://localhost:8080/"
        },
        "id": "FkZco9xcLLxq",
        "outputId": "a419abf2-1f1c-4960-cd4e-6b043a80ba0c"
      },
      "source": [
        "#vetor de numeros aleartorio\n",
        "np.random.random((2,2))"
      ],
      "execution_count": null,
      "outputs": [
        {
          "output_type": "execute_result",
          "data": {
            "text/plain": [
              "array([[0.49544582, 0.24400369],\n",
              "       [0.48829398, 0.7627636 ]])"
            ]
          },
          "metadata": {
            "tags": []
          },
          "execution_count": 50
        }
      ]
    },
    {
      "cell_type": "code",
      "metadata": {
        "colab": {
          "base_uri": "https://localhost:8080/"
        },
        "id": "oVP_WqlcLLxr",
        "outputId": "e5f2d63e-5021-4636-f525-30868f846fc3"
      },
      "source": [
        "np.random.normal(0,1.0,(3,3)).reshape((9,))"
      ],
      "execution_count": null,
      "outputs": [
        {
          "output_type": "execute_result",
          "data": {
            "text/plain": [
              "array([ 1.18085343, -0.10678745, -1.07073615, -0.31866952, -1.29228176,\n",
              "       -1.82411816,  0.04765184, -0.0492346 ,  0.12617086])"
            ]
          },
          "metadata": {
            "tags": []
          },
          "execution_count": 52
        }
      ]
    },
    {
      "cell_type": "code",
      "metadata": {
        "colab": {
          "base_uri": "https://localhost:8080/"
        },
        "id": "rGe4jTvULLxr",
        "outputId": "d71f33af-183b-46b9-a346-e5c3df28c3d1"
      },
      "source": [
        "np.ones((16,)).reshape((4,4))+9"
      ],
      "execution_count": null,
      "outputs": [
        {
          "output_type": "execute_result",
          "data": {
            "text/plain": [
              "array([[10., 10., 10., 10.],\n",
              "       [10., 10., 10., 10.],\n",
              "       [10., 10., 10., 10.],\n",
              "       [10., 10., 10., 10.]])"
            ]
          },
          "metadata": {
            "tags": []
          },
          "execution_count": 54
        }
      ]
    },
    {
      "cell_type": "code",
      "metadata": {
        "colab": {
          "base_uri": "https://localhost:8080/"
        },
        "id": "xd6jzN4QLLxr",
        "outputId": "dd730c70-999d-46d3-d914-bc42df947e15"
      },
      "source": [
        "np.arange(1,100,2)"
      ],
      "execution_count": null,
      "outputs": [
        {
          "output_type": "execute_result",
          "data": {
            "text/plain": [
              "array([ 1,  3,  5,  7,  9, 11, 13, 15, 17, 19, 21, 23, 25, 27, 29, 31, 33,\n",
              "       35, 37, 39, 41, 43, 45, 47, 49, 51, 53, 55, 57, 59, 61, 63, 65, 67,\n",
              "       69, 71, 73, 75, 77, 79, 81, 83, 85, 87, 89, 91, 93, 95, 97, 99])"
            ]
          },
          "metadata": {
            "tags": []
          },
          "execution_count": 59
        }
      ]
    },
    {
      "cell_type": "code",
      "metadata": {
        "id": "gSQpZWHfXQyU"
      },
      "source": [
        "pi = 3.1415\n",
        "x = np.linspace(-2*pi, 2*pi,500)\n",
        "y = np.sin(x)\n",
        "z = np.cos(x)"
      ],
      "execution_count": null,
      "outputs": []
    },
    {
      "cell_type": "code",
      "metadata": {
        "colab": {
          "base_uri": "https://localhost:8080/"
        },
        "id": "5pPwxqHmX508",
        "outputId": "1df705d5-bbba-4b6a-8b72-5e551cd2ac26"
      },
      "source": [
        "y"
      ],
      "execution_count": null,
      "outputs": [
        {
          "output_type": "execute_result",
          "data": {
            "text/plain": [
              "array([ 1.85307179e-04,  2.53649512e-02,  5.05285109e-02,  7.56600296e-02,\n",
              "        1.00743571e-01,  1.25763229e-01,  1.50703138e-01,  1.75547484e-01,\n",
              "        2.00280512e-01,  2.24886538e-01,  2.49349960e-01,  2.73655264e-01,\n",
              "        2.97787039e-01,  3.21729982e-01,  3.45468909e-01,  3.68988769e-01,\n",
              "        3.92274647e-01,  4.15311776e-01,  4.38085548e-01,  4.60581522e-01,\n",
              "        4.82785434e-01,  5.04683202e-01,  5.26260942e-01,  5.47504970e-01,\n",
              "        5.68401816e-01,  5.88938227e-01,  6.09101183e-01,  6.28877896e-01,\n",
              "        6.48255827e-01,  6.67222687e-01,  6.85766449e-01,  7.03875354e-01,\n",
              "        7.21537919e-01,  7.38742944e-01,  7.55479519e-01,  7.71737030e-01,\n",
              "        7.87505170e-01,  8.02773938e-01,  8.17533652e-01,  8.31774954e-01,\n",
              "        8.45488813e-01,  8.58666532e-01,  8.71299755e-01,  8.83380471e-01,\n",
              "        8.94901019e-01,  9.05854095e-01,  9.16232753e-01,  9.26030410e-01,\n",
              "        9.35240856e-01,  9.43858248e-01,  9.51877123e-01,  9.59292395e-01,\n",
              "        9.66099363e-01,  9.72293709e-01,  9.77871507e-01,  9.82829219e-01,\n",
              "        9.87163702e-01,  9.90872206e-01,  9.93952380e-01,  9.96402271e-01,\n",
              "        9.98220325e-01,  9.99405390e-01,  9.99956714e-01,  9.99873948e-01,\n",
              "        9.99157143e-01,  9.97806755e-01,  9.95823640e-01,  9.93209055e-01,\n",
              "        9.89964659e-01,  9.86092508e-01,  9.81595058e-01,  9.76475161e-01,\n",
              "        9.70736063e-01,  9.64381404e-01,  9.57415214e-01,  9.49841909e-01,\n",
              "        9.41666293e-01,  9.32893549e-01,  9.23529241e-01,  9.13579306e-01,\n",
              "        9.03050054e-01,  8.91948161e-01,  8.80280669e-01,  8.68054974e-01,\n",
              "        8.55278831e-01,  8.41960339e-01,  8.28107945e-01,  8.13730434e-01,\n",
              "        7.98836921e-01,  7.83436851e-01,  7.67539990e-01,  7.51156418e-01,\n",
              "        7.34296524e-01,  7.16971000e-01,  6.99190831e-01,  6.80967293e-01,\n",
              "        6.62311941e-01,  6.43236606e-01,  6.23753382e-01,  6.03874625e-01,\n",
              "        5.83612941e-01,  5.62981177e-01,  5.41992416e-01,  5.20659969e-01,\n",
              "        4.98997361e-01,  4.77018331e-01,  4.54736814e-01,  4.32166941e-01,\n",
              "        4.09323023e-01,  3.86219545e-01,  3.62871159e-01,  3.39292670e-01,\n",
              "        3.15499029e-01,  2.91505325e-01,  2.67326772e-01,  2.42978702e-01,\n",
              "        2.18476555e-01,  1.93835868e-01,  1.69072266e-01,  1.44201453e-01,\n",
              "        1.19239199e-01,  9.42013328e-02,  6.91037321e-02,  4.39623115e-02,\n",
              "        1.87930136e-02, -6.38820132e-03, -3.15653653e-02, -5.67225132e-02,\n",
              "       -8.18436923e-02, -1.06912973e-01, -1.31914458e-01, -1.56832294e-01,\n",
              "       -1.81650679e-01, -2.06353877e-01, -2.30926222e-01, -2.55352132e-01,\n",
              "       -2.79616119e-01, -3.03702797e-01, -3.27596891e-01, -3.51283250e-01,\n",
              "       -3.74746854e-01, -3.97972824e-01, -4.20946433e-01, -4.43653111e-01,\n",
              "       -4.66078462e-01, -4.88208263e-01, -5.10028483e-01, -5.31525285e-01,\n",
              "       -5.52685037e-01, -5.73494322e-01, -5.93939943e-01, -6.14008937e-01,\n",
              "       -6.33688576e-01, -6.52966382e-01, -6.71830130e-01, -6.90267859e-01,\n",
              "       -7.08267877e-01, -7.25818769e-01, -7.42909406e-01, -7.59528951e-01,\n",
              "       -7.75666865e-01, -7.91312915e-01, -8.06457179e-01, -8.21090054e-01,\n",
              "       -8.35202262e-01, -8.48784852e-01, -8.61829213e-01, -8.74327072e-01,\n",
              "       -8.86270505e-01, -8.97651937e-01, -9.08464153e-01, -9.18700295e-01,\n",
              "       -9.28353872e-01, -9.37418764e-01, -9.45889222e-01, -9.53759874e-01,\n",
              "       -9.61025730e-01, -9.67682182e-01, -9.73725010e-01, -9.79150381e-01,\n",
              "       -9.83954855e-01, -9.88135386e-01, -9.91689322e-01, -9.94614410e-01,\n",
              "       -9.96908796e-01, -9.98571023e-01, -9.99600039e-01, -9.99995190e-01,\n",
              "       -9.99756227e-01, -9.98883300e-01, -9.97376963e-01, -9.95238172e-01,\n",
              "       -9.92468282e-01, -9.89069050e-01, -9.85042632e-01, -9.80391580e-01,\n",
              "       -9.75118845e-01, -9.69227769e-01, -9.62722088e-01, -9.55605928e-01,\n",
              "       -9.47883801e-01, -9.39560604e-01, -9.30641615e-01, -9.21132489e-01,\n",
              "       -9.11039256e-01, -9.00368317e-01, -8.89126438e-01, -8.77320748e-01,\n",
              "       -8.64958734e-01, -8.52048233e-01, -8.38597433e-01, -8.24614864e-01,\n",
              "       -8.10109392e-01, -7.95090214e-01, -7.79566856e-01, -7.63549160e-01,\n",
              "       -7.47047284e-01, -7.30071692e-01, -7.12633148e-01, -6.94742711e-01,\n",
              "       -6.76411725e-01, -6.57651814e-01, -6.38474874e-01, -6.18893066e-01,\n",
              "       -5.98918806e-01, -5.78564762e-01, -5.57843839e-01, -5.36769177e-01,\n",
              "       -5.15354141e-01, -4.93612309e-01, -4.71557468e-01, -4.49203605e-01,\n",
              "       -4.26564893e-01, -4.03655689e-01, -3.80490519e-01, -3.57084074e-01,\n",
              "       -3.33451195e-01, -3.09606869e-01, -2.85566216e-01, -2.61344480e-01,\n",
              "       -2.36957021e-01, -2.12419303e-01, -1.87746886e-01, -1.62955415e-01,\n",
              "       -1.38060611e-01, -1.13078261e-01, -8.80242060e-02, -6.29143330e-02,\n",
              "       -3.77645649e-02, -1.25908497e-02,  1.25908497e-02,  3.77645649e-02,\n",
              "        6.29143330e-02,  8.80242060e-02,  1.13078261e-01,  1.38060611e-01,\n",
              "        1.62955415e-01,  1.87746886e-01,  2.12419303e-01,  2.36957021e-01,\n",
              "        2.61344480e-01,  2.85566216e-01,  3.09606869e-01,  3.33451195e-01,\n",
              "        3.57084074e-01,  3.80490519e-01,  4.03655689e-01,  4.26564893e-01,\n",
              "        4.49203605e-01,  4.71557468e-01,  4.93612309e-01,  5.15354141e-01,\n",
              "        5.36769177e-01,  5.57843839e-01,  5.78564762e-01,  5.98918806e-01,\n",
              "        6.18893066e-01,  6.38474874e-01,  6.57651814e-01,  6.76411725e-01,\n",
              "        6.94742711e-01,  7.12633148e-01,  7.30071692e-01,  7.47047284e-01,\n",
              "        7.63549160e-01,  7.79566856e-01,  7.95090214e-01,  8.10109392e-01,\n",
              "        8.24614864e-01,  8.38597433e-01,  8.52048233e-01,  8.64958734e-01,\n",
              "        8.77320748e-01,  8.89126438e-01,  9.00368317e-01,  9.11039256e-01,\n",
              "        9.21132489e-01,  9.30641615e-01,  9.39560604e-01,  9.47883801e-01,\n",
              "        9.55605928e-01,  9.62722088e-01,  9.69227769e-01,  9.75118845e-01,\n",
              "        9.80391580e-01,  9.85042632e-01,  9.89069050e-01,  9.92468282e-01,\n",
              "        9.95238172e-01,  9.97376963e-01,  9.98883300e-01,  9.99756227e-01,\n",
              "        9.99995190e-01,  9.99600039e-01,  9.98571023e-01,  9.96908796e-01,\n",
              "        9.94614410e-01,  9.91689322e-01,  9.88135386e-01,  9.83954855e-01,\n",
              "        9.79150381e-01,  9.73725010e-01,  9.67682182e-01,  9.61025730e-01,\n",
              "        9.53759874e-01,  9.45889222e-01,  9.37418764e-01,  9.28353872e-01,\n",
              "        9.18700295e-01,  9.08464153e-01,  8.97651937e-01,  8.86270505e-01,\n",
              "        8.74327072e-01,  8.61829213e-01,  8.48784852e-01,  8.35202262e-01,\n",
              "        8.21090054e-01,  8.06457179e-01,  7.91312915e-01,  7.75666865e-01,\n",
              "        7.59528951e-01,  7.42909406e-01,  7.25818769e-01,  7.08267877e-01,\n",
              "        6.90267859e-01,  6.71830130e-01,  6.52966382e-01,  6.33688576e-01,\n",
              "        6.14008937e-01,  5.93939943e-01,  5.73494322e-01,  5.52685037e-01,\n",
              "        5.31525285e-01,  5.10028483e-01,  4.88208263e-01,  4.66078462e-01,\n",
              "        4.43653111e-01,  4.20946433e-01,  3.97972824e-01,  3.74746854e-01,\n",
              "        3.51283250e-01,  3.27596891e-01,  3.03702797e-01,  2.79616119e-01,\n",
              "        2.55352132e-01,  2.30926222e-01,  2.06353877e-01,  1.81650679e-01,\n",
              "        1.56832294e-01,  1.31914458e-01,  1.06912973e-01,  8.18436923e-02,\n",
              "        5.67225132e-02,  3.15653653e-02,  6.38820132e-03, -1.87930136e-02,\n",
              "       -4.39623115e-02, -6.91037321e-02, -9.42013328e-02, -1.19239199e-01,\n",
              "       -1.44201453e-01, -1.69072266e-01, -1.93835868e-01, -2.18476555e-01,\n",
              "       -2.42978702e-01, -2.67326772e-01, -2.91505325e-01, -3.15499029e-01,\n",
              "       -3.39292670e-01, -3.62871159e-01, -3.86219545e-01, -4.09323023e-01,\n",
              "       -4.32166941e-01, -4.54736814e-01, -4.77018331e-01, -4.98997361e-01,\n",
              "       -5.20659969e-01, -5.41992416e-01, -5.62981177e-01, -5.83612941e-01,\n",
              "       -6.03874625e-01, -6.23753382e-01, -6.43236606e-01, -6.62311941e-01,\n",
              "       -6.80967293e-01, -6.99190831e-01, -7.16971000e-01, -7.34296524e-01,\n",
              "       -7.51156418e-01, -7.67539990e-01, -7.83436851e-01, -7.98836921e-01,\n",
              "       -8.13730434e-01, -8.28107945e-01, -8.41960339e-01, -8.55278831e-01,\n",
              "       -8.68054974e-01, -8.80280669e-01, -8.91948161e-01, -9.03050054e-01,\n",
              "       -9.13579306e-01, -9.23529241e-01, -9.32893549e-01, -9.41666293e-01,\n",
              "       -9.49841909e-01, -9.57415214e-01, -9.64381404e-01, -9.70736063e-01,\n",
              "       -9.76475161e-01, -9.81595058e-01, -9.86092508e-01, -9.89964659e-01,\n",
              "       -9.93209055e-01, -9.95823640e-01, -9.97806755e-01, -9.99157143e-01,\n",
              "       -9.99873948e-01, -9.99956714e-01, -9.99405390e-01, -9.98220325e-01,\n",
              "       -9.96402271e-01, -9.93952380e-01, -9.90872206e-01, -9.87163702e-01,\n",
              "       -9.82829219e-01, -9.77871507e-01, -9.72293709e-01, -9.66099363e-01,\n",
              "       -9.59292395e-01, -9.51877123e-01, -9.43858248e-01, -9.35240856e-01,\n",
              "       -9.26030410e-01, -9.16232753e-01, -9.05854095e-01, -8.94901019e-01,\n",
              "       -8.83380471e-01, -8.71299755e-01, -8.58666532e-01, -8.45488813e-01,\n",
              "       -8.31774954e-01, -8.17533652e-01, -8.02773938e-01, -7.87505170e-01,\n",
              "       -7.71737030e-01, -7.55479519e-01, -7.38742944e-01, -7.21537919e-01,\n",
              "       -7.03875354e-01, -6.85766449e-01, -6.67222687e-01, -6.48255827e-01,\n",
              "       -6.28877896e-01, -6.09101183e-01, -5.88938227e-01, -5.68401816e-01,\n",
              "       -5.47504970e-01, -5.26260942e-01, -5.04683202e-01, -4.82785434e-01,\n",
              "       -4.60581522e-01, -4.38085548e-01, -4.15311776e-01, -3.92274647e-01,\n",
              "       -3.68988769e-01, -3.45468909e-01, -3.21729982e-01, -2.97787039e-01,\n",
              "       -2.73655264e-01, -2.49349960e-01, -2.24886538e-01, -2.00280512e-01,\n",
              "       -1.75547484e-01, -1.50703138e-01, -1.25763229e-01, -1.00743571e-01,\n",
              "       -7.56600296e-02, -5.05285109e-02, -2.53649512e-02, -1.85307179e-04])"
            ]
          },
          "metadata": {
            "tags": []
          },
          "execution_count": 62
        }
      ]
    },
    {
      "cell_type": "code",
      "metadata": {
        "colab": {
          "base_uri": "https://localhost:8080/",
          "height": 265
        },
        "id": "Q6BLFLfFZNar",
        "outputId": "7ef8706c-aae3-483c-f2b7-11c88f89ed1e"
      },
      "source": [
        "plt.plot(x,y, label = \"Seno\")\n",
        "plt.plot(x,z, label = \"Cosseno\")\n",
        "plt.legend()\n",
        "plt.show()"
      ],
      "execution_count": null,
      "outputs": [
        {
          "output_type": "display_data",
          "data": {
            "image/png": "[encoded data removed]",
            "text/plain": [
              "<Figure size 432x288 with 1 Axes>"
            ]
          },
          "metadata": {
            "tags": [],
            "needs_background": "light"
          }
        }
      ]
    },
    {
      "cell_type": "markdown",
      "metadata": {
        "id": "UDvxwy5xLLxs"
      },
      "source": [
        "## Parte 2.1 - Operações elemento-a-elemento\n",
        "\n",
        "1. Crie um array bidimensional (2,5) de uns\n",
        "2. Crie um array mesmo formato que o anterior, mas gerado aleatoriamente de maneira uniforme\n",
        "3. Some os dois arrays e armazene o resultado em uma variável\n",
        "2. Eleve os elementos do array anterior ao quadrado e, em seguida, subtraia 1"
      ]
    },
    {
      "cell_type": "code",
      "metadata": {
        "id": "uCPrSr47LLxs"
      },
      "source": [
        "a = np.ones([2,5])"
      ],
      "execution_count": null,
      "outputs": []
    },
    {
      "cell_type": "code",
      "metadata": {
        "id": "Kbkgk1uyLLxs"
      },
      "source": [
        "b = np.random.random([2,5])"
      ],
      "execution_count": null,
      "outputs": []
    },
    {
      "cell_type": "code",
      "metadata": {
        "colab": {
          "base_uri": "https://localhost:8080/"
        },
        "id": "qYRvteXwLLxs",
        "outputId": "a61fe64a-74ce-4405-fb0b-0c6feacfb1da"
      },
      "source": [
        "a"
      ],
      "execution_count": null,
      "outputs": [
        {
          "output_type": "execute_result",
          "data": {
            "text/plain": [
              "array([[1., 1., 1., 1., 1.],\n",
              "       [1., 1., 1., 1., 1.]])"
            ]
          },
          "metadata": {
            "tags": []
          },
          "execution_count": 71
        }
      ]
    },
    {
      "cell_type": "code",
      "metadata": {
        "colab": {
          "base_uri": "https://localhost:8080/"
        },
        "id": "FKeB1DV5LLxs",
        "outputId": "1c8ff4d6-86be-4eea-adac-75f73d43e878"
      },
      "source": [
        "b"
      ],
      "execution_count": null,
      "outputs": [
        {
          "output_type": "execute_result",
          "data": {
            "text/plain": [
              "array([[0.73319558, 0.48616709, 0.65111626, 0.26295676, 0.37992048],\n",
              "       [0.05671504, 0.14967615, 0.16469453, 0.59975732, 0.8877859 ]])"
            ]
          },
          "metadata": {
            "tags": []
          },
          "execution_count": 72
        }
      ]
    },
    {
      "cell_type": "code",
      "metadata": {
        "colab": {
          "base_uri": "https://localhost:8080/"
        },
        "id": "phJL4nFYaxB9",
        "outputId": "fe366329-038c-42ef-e348-78e2e0c944c0"
      },
      "source": [
        "#soma\n",
        "a+b"
      ],
      "execution_count": null,
      "outputs": [
        {
          "output_type": "execute_result",
          "data": {
            "text/plain": [
              "array([[2.73319558, 2.48616709, 2.65111626, 2.26295676, 2.37992048],\n",
              "       [2.05671504, 2.14967615, 2.16469453, 2.59975732, 2.8877859 ]])"
            ]
          },
          "metadata": {
            "tags": []
          },
          "execution_count": 78
        }
      ]
    },
    {
      "cell_type": "code",
      "metadata": {
        "colab": {
          "base_uri": "https://localhost:8080/"
        },
        "id": "fq3wVATTa10W",
        "outputId": "b003a0ba-d744-4a1e-b776-f57a09e99b32"
      },
      "source": [
        "#subtração\n",
        "(a-1)"
      ],
      "execution_count": null,
      "outputs": [
        {
          "output_type": "execute_result",
          "data": {
            "text/plain": [
              "array([[1., 1., 1., 1., 1.],\n",
              "       [1., 1., 1., 1., 1.]])"
            ]
          },
          "metadata": {
            "tags": []
          },
          "execution_count": 81
        }
      ]
    },
    {
      "cell_type": "code",
      "metadata": {
        "colab": {
          "base_uri": "https://localhost:8080/"
        },
        "id": "BFloPgIqa4-n",
        "outputId": "5719ee2d-30d1-4ff3-e0b5-dfea94a83d10"
      },
      "source": [
        "(a+1)**2"
      ],
      "execution_count": null,
      "outputs": [
        {
          "output_type": "execute_result",
          "data": {
            "text/plain": [
              "array([[4., 4., 4., 4., 4.],\n",
              "       [4., 4., 4., 4., 4.]])"
            ]
          },
          "metadata": {
            "tags": []
          },
          "execution_count": 76
        }
      ]
    },
    {
      "cell_type": "code",
      "metadata": {
        "id": "sDiOPDuCbCyQ"
      },
      "source": [
        "#incremento\n",
        "a+=1"
      ],
      "execution_count": null,
      "outputs": []
    },
    {
      "cell_type": "code",
      "metadata": {
        "colab": {
          "base_uri": "https://localhost:8080/"
        },
        "id": "86leUbn4b4vs",
        "outputId": "ed8da6fa-be4f-48fc-da7a-8a127ac70d79"
      },
      "source": [
        "a"
      ],
      "execution_count": null,
      "outputs": [
        {
          "output_type": "execute_result",
          "data": {
            "text/plain": [
              "array([[2., 2., 2., 2., 2.],\n",
              "       [2., 2., 2., 2., 2.]])"
            ]
          },
          "metadata": {
            "tags": []
          },
          "execution_count": 82
        }
      ]
    },
    {
      "cell_type": "markdown",
      "metadata": {
        "id": "9l8OFDovLLxt"
      },
      "source": [
        "## Parte 2.2 - Multiplicando arrays\n",
        "\n",
        "1. Obtenha 2 arrays aleatoriamente gerados de dimensão 2x2\n",
        "2. Multiplique as matrizes com o operador * e justifique o resultado\n",
        "3. Multiplique as matrizes com o produto dot\n",
        "4. Verifique se as operações a seguir são possíveis. O que as impede de ser realizada?\n",
        "```python\n",
        "a = np.ones((1,5))\n",
        "b = np.random.random((3,2))\n",
        "a*b\n",
        "a.dot(b)\n",
        "```\n"
      ]
    },
    {
      "cell_type": "code",
      "metadata": {
        "id": "iDlVLyBfLLxt"
      },
      "source": [
        "a = np.ones((2,5)) + 2"
      ],
      "execution_count": null,
      "outputs": []
    },
    {
      "cell_type": "code",
      "metadata": {
        "id": "-DLnikHlLLxt"
      },
      "source": [
        "b = np.random.random((2,5))"
      ],
      "execution_count": null,
      "outputs": []
    },
    {
      "cell_type": "code",
      "metadata": {
        "colab": {
          "base_uri": "https://localhost:8080/"
        },
        "id": "RN177rXALLxt",
        "outputId": "bd306a53-d7b6-4dd1-e948-df0196d3d599"
      },
      "source": [
        "#não é possivel a multiplicação desse jeito normal\n",
        "a*b"
      ],
      "execution_count": null,
      "outputs": [
        {
          "output_type": "execute_result",
          "data": {
            "text/plain": [
              "array([[1.24846357, 2.98939418, 0.33943663, 2.69496775, 0.37803755],\n",
              "       [0.15635236, 2.22343445, 1.41736816, 0.17457081, 1.98115501]])"
            ]
          },
          "metadata": {
            "tags": []
          },
          "execution_count": 86
        }
      ]
    },
    {
      "cell_type": "code",
      "metadata": {
        "id": "eEnf3qwccVH7"
      },
      "source": [
        "a = np.ones((1,3))+3"
      ],
      "execution_count": null,
      "outputs": []
    },
    {
      "cell_type": "code",
      "metadata": {
        "colab": {
          "base_uri": "https://localhost:8080/"
        },
        "id": "KTR7eGMJcoKu",
        "outputId": "ec8ffe47-ff8a-481c-f1c1-3308a8f2db00"
      },
      "source": [
        "a"
      ],
      "execution_count": null,
      "outputs": [
        {
          "output_type": "execute_result",
          "data": {
            "text/plain": [
              "array([[4., 4., 4.]])"
            ]
          },
          "metadata": {
            "tags": []
          },
          "execution_count": 88
        }
      ]
    },
    {
      "cell_type": "code",
      "metadata": {
        "id": "T2Jz9XmKcp4v"
      },
      "source": [
        "b = np.random.random((3,3))"
      ],
      "execution_count": null,
      "outputs": []
    },
    {
      "cell_type": "code",
      "metadata": {
        "colab": {
          "base_uri": "https://localhost:8080/"
        },
        "id": "qFhH7S8Uc4E1",
        "outputId": "51c5be2c-db03-49d0-c790-f3e057cd51cc"
      },
      "source": [
        "b"
      ],
      "execution_count": null,
      "outputs": [
        {
          "output_type": "execute_result",
          "data": {
            "text/plain": [
              "array([[0.4131    , 0.41496805, 0.51974251],\n",
              "       [0.03548165, 0.86806988, 0.1531233 ],\n",
              "       [0.90180777, 0.6452859 , 0.93540262]])"
            ]
          },
          "metadata": {
            "tags": []
          },
          "execution_count": 92
        }
      ]
    },
    {
      "cell_type": "code",
      "metadata": {
        "colab": {
          "base_uri": "https://localhost:8080/"
        },
        "id": "0EysVtUzdFrZ",
        "outputId": "366dbf00-118e-4d65-f4ad-904e1d67edac"
      },
      "source": [
        "#faz a multiplicao da matriz\n",
        "np.dot(a,b)"
      ],
      "execution_count": null,
      "outputs": [
        {
          "output_type": "execute_result",
          "data": {
            "text/plain": [
              "array([[5.40155769, 7.71329528, 6.43307372]])"
            ]
          },
          "metadata": {
            "tags": []
          },
          "execution_count": 96
        }
      ]
    },
    {
      "cell_type": "code",
      "metadata": {
        "colab": {
          "base_uri": "https://localhost:8080/"
        },
        "id": "SsS7t2qydY1B",
        "outputId": "36e4b5ab-5658-4a58-811b-3bb1c48b7fb0"
      },
      "source": [
        "#outra função para multiplicar matriz\n",
        "np.matmul(a,b)"
      ],
      "execution_count": null,
      "outputs": [
        {
          "output_type": "execute_result",
          "data": {
            "text/plain": [
              "array([[5.40155769, 7.71329528, 6.43307372]])"
            ]
          },
          "metadata": {
            "tags": []
          },
          "execution_count": 97
        }
      ]
    },
    {
      "cell_type": "markdown",
      "metadata": {
        "id": "hJuutn8yLLxt"
      },
      "source": [
        "## Parte 2.3 -- Funções Universais (ufunc)\n",
        "\n",
        "1. Crie um linspace no intervalo $[-1,+1]$ com cem amostras  \n",
        "2. Obtenha e plote a função tangente neste intervalo (não use np.tan!)\n",
        "3. A função sigmóide é muito importante no contexto das redes neurais:\n",
        "\n",
        "$$f(x) = \\frac{1}{1 + e^{-\\beta \\cdot x}}$$\n",
        "\n",
        "\n",
        "   3.1 Crie um linspace no intervalo $[-2,+2]$ com 200 amostras  \n",
        "   3.2 Construa uma função em Python que implemente a equação anterior. Utilize um parâmetro nomeado $\\beta = 1$  \n",
        "   3.3 Aplique-a no linspace previamente definido e plote o resultado obtido  \n",
        "   3.4 Incremente o gráfico anterior com $\\beta = 0.8$ e $\\beta = 1.2$, para comparar a curva gerada  \n",
        "   3.5 Capriche no gráfico e inclua legendas!"
      ]
    },
    {
      "cell_type": "code",
      "metadata": {
        "id": "LnS-inGxLLxt"
      },
      "source": [
        "x = np.linspace(-5,5,200)"
      ],
      "execution_count": null,
      "outputs": []
    },
    {
      "cell_type": "code",
      "metadata": {
        "colab": {
          "base_uri": "https://localhost:8080/"
        },
        "id": "7Dve9EONLLxt",
        "outputId": "d538a514-cc21-4d95-ec2a-8111cbff78af"
      },
      "source": [
        "x"
      ],
      "execution_count": null,
      "outputs": [
        {
          "output_type": "execute_result",
          "data": {
            "text/plain": [
              "array([-5.        , -4.94974874, -4.89949749, -4.84924623, -4.79899497,\n",
              "       -4.74874372, -4.69849246, -4.64824121, -4.59798995, -4.54773869,\n",
              "       -4.49748744, -4.44723618, -4.39698492, -4.34673367, -4.29648241,\n",
              "       -4.24623116, -4.1959799 , -4.14572864, -4.09547739, -4.04522613,\n",
              "       -3.99497487, -3.94472362, -3.89447236, -3.84422111, -3.79396985,\n",
              "       -3.74371859, -3.69346734, -3.64321608, -3.59296482, -3.54271357,\n",
              "       -3.49246231, -3.44221106, -3.3919598 , -3.34170854, -3.29145729,\n",
              "       -3.24120603, -3.19095477, -3.14070352, -3.09045226, -3.04020101,\n",
              "       -2.98994975, -2.93969849, -2.88944724, -2.83919598, -2.78894472,\n",
              "       -2.73869347, -2.68844221, -2.63819095, -2.5879397 , -2.53768844,\n",
              "       -2.48743719, -2.43718593, -2.38693467, -2.33668342, -2.28643216,\n",
              "       -2.2361809 , -2.18592965, -2.13567839, -2.08542714, -2.03517588,\n",
              "       -1.98492462, -1.93467337, -1.88442211, -1.83417085, -1.7839196 ,\n",
              "       -1.73366834, -1.68341709, -1.63316583, -1.58291457, -1.53266332,\n",
              "       -1.48241206, -1.4321608 , -1.38190955, -1.33165829, -1.28140704,\n",
              "       -1.23115578, -1.18090452, -1.13065327, -1.08040201, -1.03015075,\n",
              "       -0.9798995 , -0.92964824, -0.87939698, -0.82914573, -0.77889447,\n",
              "       -0.72864322, -0.67839196, -0.6281407 , -0.57788945, -0.52763819,\n",
              "       -0.47738693, -0.42713568, -0.37688442, -0.32663317, -0.27638191,\n",
              "       -0.22613065, -0.1758794 , -0.12562814, -0.07537688, -0.02512563,\n",
              "        0.02512563,  0.07537688,  0.12562814,  0.1758794 ,  0.22613065,\n",
              "        0.27638191,  0.32663317,  0.37688442,  0.42713568,  0.47738693,\n",
              "        0.52763819,  0.57788945,  0.6281407 ,  0.67839196,  0.72864322,\n",
              "        0.77889447,  0.82914573,  0.87939698,  0.92964824,  0.9798995 ,\n",
              "        1.03015075,  1.08040201,  1.13065327,  1.18090452,  1.23115578,\n",
              "        1.28140704,  1.33165829,  1.38190955,  1.4321608 ,  1.48241206,\n",
              "        1.53266332,  1.58291457,  1.63316583,  1.68341709,  1.73366834,\n",
              "        1.7839196 ,  1.83417085,  1.88442211,  1.93467337,  1.98492462,\n",
              "        2.03517588,  2.08542714,  2.13567839,  2.18592965,  2.2361809 ,\n",
              "        2.28643216,  2.33668342,  2.38693467,  2.43718593,  2.48743719,\n",
              "        2.53768844,  2.5879397 ,  2.63819095,  2.68844221,  2.73869347,\n",
              "        2.78894472,  2.83919598,  2.88944724,  2.93969849,  2.98994975,\n",
              "        3.04020101,  3.09045226,  3.14070352,  3.19095477,  3.24120603,\n",
              "        3.29145729,  3.34170854,  3.3919598 ,  3.44221106,  3.49246231,\n",
              "        3.54271357,  3.59296482,  3.64321608,  3.69346734,  3.74371859,\n",
              "        3.79396985,  3.84422111,  3.89447236,  3.94472362,  3.99497487,\n",
              "        4.04522613,  4.09547739,  4.14572864,  4.1959799 ,  4.24623116,\n",
              "        4.29648241,  4.34673367,  4.39698492,  4.44723618,  4.49748744,\n",
              "        4.54773869,  4.59798995,  4.64824121,  4.69849246,  4.74874372,\n",
              "        4.79899497,  4.84924623,  4.89949749,  4.94974874,  5.        ])"
            ]
          },
          "metadata": {
            "tags": []
          },
          "execution_count": 108
        }
      ]
    },
    {
      "cell_type": "code",
      "metadata": {
        "id": "o3cB1CRqeBqC"
      },
      "source": [
        "def sigmoide(x, beta=1):\n",
        "  return 1/(1 + np.exp(-beta*x))"
      ],
      "execution_count": null,
      "outputs": []
    },
    {
      "cell_type": "code",
      "metadata": {
        "colab": {
          "base_uri": "https://localhost:8080/"
        },
        "id": "Fiaoh6WZehD7",
        "outputId": "1202f2da-204d-4e76-bed4-780b875db2ea"
      },
      "source": [
        "sigmoide(1.4)"
      ],
      "execution_count": null,
      "outputs": [
        {
          "output_type": "execute_result",
          "data": {
            "text/plain": [
              "0.8021838885585817"
            ]
          },
          "metadata": {
            "tags": []
          },
          "execution_count": 110
        }
      ]
    },
    {
      "cell_type": "code",
      "metadata": {
        "colab": {
          "base_uri": "https://localhost:8080/"
        },
        "id": "PXFv3GfdfQN3",
        "outputId": "ff20fd8c-d8c0-498c-f091-b9facf5c9a41"
      },
      "source": [
        "sigmoide(beta=2.0, x =1.4)"
      ],
      "execution_count": null,
      "outputs": [
        {
          "output_type": "execute_result",
          "data": {
            "text/plain": [
              "0.9426758241011313"
            ]
          },
          "metadata": {
            "tags": []
          },
          "execution_count": 111
        }
      ]
    },
    {
      "cell_type": "code",
      "metadata": {
        "id": "jmRTvkFbfhgX"
      },
      "source": [
        "y = sigmoide(x)\n",
        "z = sigmoide(x, beta = 1.4)\n",
        "w = sigmoide(x, beta =0.8)"
      ],
      "execution_count": null,
      "outputs": []
    },
    {
      "cell_type": "code",
      "metadata": {
        "colab": {
          "base_uri": "https://localhost:8080/",
          "height": 265
        },
        "id": "CGbBcBhyflpl",
        "outputId": "022029d5-ac36-4e0f-c9a9-03cd6fb316b3"
      },
      "source": [
        "plt.plot(x,y, label = \"beta = 1.0\")\n",
        "plt.plot(x,z, label = \"beta = 1.4\")\n",
        "plt.plot(x,w, label = \"beta = 0.8\")\n",
        "plt.legend()\n",
        "plt.show()"
      ],
      "execution_count": null,
      "outputs": [
        {
          "output_type": "display_data",
          "data": {
            "image/png": "[encoded data removed]",
            "text/plain": [
              "<Figure size 432x288 with 1 Axes>"
            ]
          },
          "metadata": {
            "tags": [],
            "needs_background": "light"
          }
        }
      ]
    },
    {
      "cell_type": "markdown",
      "metadata": {
        "id": "Wy8NQSVRLLxt"
      },
      "source": [
        "## Parte 2.4 -- Funções agregadas\n",
        "\n",
        "1. Crie um array de 1500 números *inteiros* aleatórios no intervalo $[0,100)$ com distribuição uniforme\n",
        "2. Calcule a média e o desvio padrão\n",
        "3. Suponha que o seu array esteja armazenado na variável a. Execute o código a seguir:\n",
        "\n",
        "```python\n",
        "unique, counts = numpy.unique(a, return_counts=True)\n",
        "d = dict(zip(unique, counts))\n",
        "print(d)\n",
        "```\n",
        "4. Obtenha o valor que mais se repete no vetor inicial"
      ]
    },
    {
      "cell_type": "code",
      "metadata": {
        "id": "WgwftlXkLLxt"
      },
      "source": [
        "u = np.random.randint(low =0, high=100, size=[1500,])"
      ],
      "execution_count": null,
      "outputs": []
    },
    {
      "cell_type": "code",
      "metadata": {
        "colab": {
          "base_uri": "https://localhost:8080/"
        },
        "id": "S14CBOwpLLxt",
        "outputId": "401570dd-6973-4328-e77f-360cf70730a5"
      },
      "source": [
        "u"
      ],
      "execution_count": null,
      "outputs": [
        {
          "output_type": "execute_result",
          "data": {
            "text/plain": [
              "array([56, 86,  6, ..., 73, 93, 35])"
            ]
          },
          "metadata": {
            "tags": []
          },
          "execution_count": 122
        }
      ]
    },
    {
      "cell_type": "code",
      "metadata": {
        "colab": {
          "base_uri": "https://localhost:8080/"
        },
        "id": "OHbsYmTdm7IX",
        "outputId": "25bc66c8-a6f3-4521-c4ec-3c955ea5e8b2"
      },
      "source": [
        "#media e desvia padrao\n",
        "np.mean(u)"
      ],
      "execution_count": null,
      "outputs": [
        {
          "output_type": "execute_result",
          "data": {
            "text/plain": [
              "48.664"
            ]
          },
          "metadata": {
            "tags": []
          },
          "execution_count": 123
        }
      ]
    },
    {
      "cell_type": "code",
      "metadata": {
        "colab": {
          "base_uri": "https://localhost:8080/"
        },
        "id": "2p3hzSyBniGy",
        "outputId": "11940e78-c9e3-4a01-cedd-420c0fb26509"
      },
      "source": [
        "np.std(u)"
      ],
      "execution_count": null,
      "outputs": [
        {
          "output_type": "execute_result",
          "data": {
            "text/plain": [
              "28.75761529288083"
            ]
          },
          "metadata": {
            "tags": []
          },
          "execution_count": 124
        }
      ]
    },
    {
      "cell_type": "code",
      "metadata": {
        "colab": {
          "base_uri": "https://localhost:8080/"
        },
        "id": "JCggL1G4nl2E",
        "outputId": "4e04cab0-48d6-42b5-9514-afb5a44e4459"
      },
      "source": [
        "np.min(u)"
      ],
      "execution_count": null,
      "outputs": [
        {
          "output_type": "execute_result",
          "data": {
            "text/plain": [
              "0"
            ]
          },
          "metadata": {
            "tags": []
          },
          "execution_count": 125
        }
      ]
    },
    {
      "cell_type": "code",
      "metadata": {
        "colab": {
          "base_uri": "https://localhost:8080/"
        },
        "id": "ct1_Ds51nqGM",
        "outputId": "d3833897-5c7f-4160-df4d-abcc29cbab69"
      },
      "source": [
        "np.max(u)"
      ],
      "execution_count": null,
      "outputs": [
        {
          "output_type": "execute_result",
          "data": {
            "text/plain": [
              "99"
            ]
          },
          "metadata": {
            "tags": []
          },
          "execution_count": 126
        }
      ]
    },
    {
      "cell_type": "code",
      "metadata": {
        "colab": {
          "base_uri": "https://localhost:8080/"
        },
        "id": "y1wqV7B0nxYy",
        "outputId": "c4394abc-0249-4fe9-b039-5299e939a74a"
      },
      "source": [
        "np.sum(u)"
      ],
      "execution_count": null,
      "outputs": [
        {
          "output_type": "execute_result",
          "data": {
            "text/plain": [
              "72996"
            ]
          },
          "metadata": {
            "tags": []
          },
          "execution_count": 127
        }
      ]
    }
  ]
}